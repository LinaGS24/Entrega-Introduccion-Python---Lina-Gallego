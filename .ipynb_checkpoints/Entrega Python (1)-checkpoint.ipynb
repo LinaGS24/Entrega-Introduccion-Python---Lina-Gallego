{
 "cells": [
  {
   "cell_type": "markdown",
   "id": "57264c58-f03e-4abc-8d0a-10b055b3d6a5",
   "metadata": {},
   "source": [
    "Lina Gallego"
   ]
  },
  {
   "cell_type": "markdown",
   "id": "c0b52eef-583e-4322-a9da-927f9583ab9c",
   "metadata": {},
   "source": [
    "1. Definir una funcion llamada calcular impuesto que recibe el sueldo anual de una persona y su edad. La funcion debe calcular la cantidad a pagar segun las siguientes reglas:"
   ]
  },
  {
   "cell_type": "markdown",
   "id": "ecc296f2-1662-41ca-850c-23963dda60c5",
   "metadata": {},
   "source": [
    "a) Si una persona tiene menos de 18 años no tiene que pagar el impuesto:"
   ]
  },
  {
   "cell_type": "markdown",
   "id": "aa0fa2c0-24be-437a-b3a5-2eb2c7014f7c",
   "metadata": {},
   "source": [
    "b) Si una persona tiene entre 18 y 30 años inclusive y un sueldo entre e20000 y e40000 debe pagar un 20 % del sueldo:"
   ]
  },
  {
   "cell_type": "markdown",
   "id": "96f61d03-d60c-4272-9030-69b08c824fdc",
   "metadata": {},
   "source": [
    "c) Si una persona tiene mas de 30 años y un sueldo entre e20000 y e40000 debe pagar un 30 % del sueldo:"
   ]
  },
  {
   "cell_type": "markdown",
   "id": "bcffa5b4-dea4-4240-b720-d1753f15b81f",
   "metadata": {},
   "source": [
    "d) Si una persona tiene un sueldo mayor de e40000 debe pagar un 50 % del sueldo:"
   ]
  },
  {
   "cell_type": "code",
   "execution_count": 47,
   "id": "7f71622e-15b3-496e-a7a3-eea6eef82c2f",
   "metadata": {},
   "outputs": [
    {
     "name": "stdout",
     "output_type": "stream",
     "text": [
      "su edad es: 29 Debe pagar un 20% del sueldo: 29999.8\n",
      "su edad es: 29 Debe pagar un 50% del sueldo: 29999.5 \n"
     ]
    }
   ],
   "source": [
    "def calcular_impuesto (sueldo, edad):\n",
    "\n",
    "    if edad < 18:\n",
    "        print(f'su edad es: {edad}' + \"No tiene que pagar impuesto\")\n",
    "        \n",
    "    elif (edad >= 18) or (edad <= 30) and (sueldo >= 20000) or (sueldo <= 40000):\n",
    "                                                               \n",
    "        print(f'su edad es: {edad}' + f' Debe pagar un 20% del sueldo: {sueldo-0.20}')\n",
    "        \n",
    "    elif (edad > 30) and (sueldo >= 20000) or (sueldo <= 40000):\n",
    "        \n",
    "        print(f'su edad es: {edad}' + f' Debe pagar un 30% del sueldo: {sueldo-0.30} ')\n",
    "    else: (edad > 30) and (sueldo >40000)\n",
    "    print(f'su edad es: {edad}' + f' Debe pagar un 50% del sueldo: {sueldo-0.50} ')\n",
    "\n",
    "calcular_impuesto (30000, 29)"
   ]
  },
  {
   "cell_type": "markdown",
   "id": "318e01f7-ddc6-4e09-97e8-fc0212d6d9f5",
   "metadata": {},
   "source": [
    "2. Escribre una funcion llamada max 3 que recibe 3 numeros enteros y devuelve el mayor de 3:"
   ]
  },
  {
   "cell_type": "code",
   "execution_count": null,
   "id": "4d7a0608-ae3d-40af-9fa8-10fc1571be5e",
   "metadata": {},
   "outputs": [],
   "source": [
    "def max_3 (numero_1, numero_2, numero_3)\n"
   ]
  },
  {
   "cell_type": "markdown",
   "id": "5ffcb51c-0a52-483a-bc22-dd0b48aecd40",
   "metadata": {},
   "source": [
    "3. Realizar un codigo que crea una lista llamada resultado que contiene todos los elementos de la lista random numbers = [19, 137, 15, 90, 134, 51, 76, 105, 36, 29, 7] que son multiplos de 3 y de 5. Finalmente la debe mostrar por pantalla."
   ]
  },
  {
   "cell_type": "code",
   "execution_count": null,
   "id": "92e1db38-0fce-4978-94f2-e4a6ff8f0cf8",
   "metadata": {},
   "outputs": [],
   "source": []
  },
  {
   "cell_type": "markdown",
   "id": "cb3f7e10-4a4b-4662-b58e-1bc0764bb623",
   "metadata": {},
   "source": [
    "4. Da el valor de en el que la secuencia 2 · 3n − 4 · 2,5n toma su valor mınimo. puede tomar los valores de 0 a 100:"
   ]
  },
  {
   "cell_type": "code",
   "execution_count": null,
   "id": "9eae353f-a5c8-46b8-b4c1-f992ea9ac17a",
   "metadata": {},
   "outputs": [],
   "source": []
  }
 ],
 "metadata": {
  "kernelspec": {
   "display_name": "Python 3 (ipykernel)",
   "language": "python",
   "name": "python3"
  },
  "language_info": {
   "codemirror_mode": {
    "name": "ipython",
    "version": 3
   },
   "file_extension": ".py",
   "mimetype": "text/x-python",
   "name": "python",
   "nbconvert_exporter": "python",
   "pygments_lexer": "ipython3",
   "version": "3.13.0"
  }
 },
 "nbformat": 4,
 "nbformat_minor": 5
}
