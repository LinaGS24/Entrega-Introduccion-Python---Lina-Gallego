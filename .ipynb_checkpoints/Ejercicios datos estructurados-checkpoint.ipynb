{
 "cells": [
  {
   "cell_type": "markdown",
   "id": "d670d438-cb0e-4448-ad7d-6deb9bf5ca8f",
   "metadata": {},
   "source": [
    "EJERCICIOS DATOS ESTRUCTURADOS, 14/10/2024"
   ]
  },
  {
   "cell_type": "markdown",
   "id": "ec82fd17-420b-41d3-b41e-caa9d24ce058",
   "metadata": {},
   "source": [
    "1. Eliminar los nombres vacíos de la siguiente lista: nombres = [\"\", \"jose\", \"juana\", \"luis\" , \"encarnacion\", \"\", \"pepa\"] Ayuda: También podemos aplicar la función len a los strings, un string vacío tiene longitud 0."
   ]
  },
  {
   "cell_type": "code",
   "execution_count": 2,
   "id": "ce1a810d-d547-4a9c-98fb-999029553956",
   "metadata": {},
   "outputs": [
    {
     "name": "stdout",
     "output_type": "stream",
     "text": [
      "['jose', 'juana', 'luis', 'encarnacion', '', 'pepa']\n"
     ]
    }
   ],
   "source": [
    "nombres = [\"\", \"jose\", \"juana\", \"luis\" , \"encarnacion\", \"\", \"pepa\"] \n",
    "nombres.remove(\"\")\n",
    "print(nombres)"
   ]
  },
  {
   "cell_type": "markdown",
   "id": "ec487b1b-3205-4857-b6d4-caa41a55e056",
   "metadata": {},
   "source": [
    "2. A partir de la lista del ejercicio anterior, queremos obtener un diccionario donde las claves son los nombres y los valores son los apellidos. apellidos = [\"stark\", \"targaryen\", \"baratheon\", \"martillo\", \"lannister\"]"
   ]
  },
  {
   "cell_type": "code",
   "execution_count": null,
   "id": "0090ad5c-0761-4b1d-9864-7ee18c9ef018",
   "metadata": {},
   "outputs": [],
   "source": []
  },
  {
   "cell_type": "markdown",
   "id": "2cf77dce-aed9-4ed6-bc2f-9b914817b593",
   "metadata": {},
   "source": [
    "3. Combinar los siguientes diccionarios en uno solo: diccionario1 = {'a': 1, 'b': 2, 'c': 3} y diccionario2 = {'c': 4, 'd': 5, 'e': 6}."
   ]
  },
  {
   "cell_type": "code",
   "execution_count": null,
   "id": "af48e97e-1980-4a11-9ec9-67748181961f",
   "metadata": {},
   "outputs": [],
   "source": []
  },
  {
   "cell_type": "markdown",
   "id": "46d05477-f68d-4837-be96-3b7d28fa12bb",
   "metadata": {},
   "source": [
    "4. Encontrar la clave con el valor más alto en el siguiente diccionario: notas = {'Juan': 85, 'María': 92, 'Carlos': 78, 'Sofía': 95, 'Pedro': 88}"
   ]
  },
  {
   "cell_type": "code",
   "execution_count": null,
   "id": "e9739c11-a6c8-401c-ada9-424c10390c4f",
   "metadata": {},
   "outputs": [],
   "source": []
  }
 ],
 "metadata": {
  "kernelspec": {
   "display_name": "Python 3 (ipykernel)",
   "language": "python",
   "name": "python3"
  },
  "language_info": {
   "codemirror_mode": {
    "name": "ipython",
    "version": 3
   },
   "file_extension": ".py",
   "mimetype": "text/x-python",
   "name": "python",
   "nbconvert_exporter": "python",
   "pygments_lexer": "ipython3",
   "version": "3.13.0"
  }
 },
 "nbformat": 4,
 "nbformat_minor": 5
}
