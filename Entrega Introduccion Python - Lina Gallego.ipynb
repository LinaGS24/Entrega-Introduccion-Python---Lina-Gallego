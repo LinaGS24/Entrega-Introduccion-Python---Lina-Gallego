{
 "cells": [
  {
   "cell_type": "markdown",
   "id": "23215795-0c14-4774-afe4-9f8f6b2764d2",
   "metadata": {},
   "source": [
    "## Enlace GitHub repositorio Lina Gallego: https://github.com/LinaGS24"
   ]
  },
  {
   "cell_type": "markdown",
   "id": "acf78416-fdae-4771-940d-afbdb790b631",
   "metadata": {},
   "source": [
    "# Entrega Introducción Python - Lina Gallego"
   ]
  },
  {
   "cell_type": "markdown",
   "id": "76f8cbb0-1bc7-455c-b258-c490b68abf47",
   "metadata": {},
   "source": [
    "## Ejercicios rápidos:"
   ]
  },
  {
   "cell_type": "markdown",
   "id": "75d8d7f2-37ae-403e-b93e-a783854a5a02",
   "metadata": {},
   "source": [
    "1. Realizar una funcion que recibe 3 numeros (d, m, a) que representan una fecha (dıa, mes y año). El programa debe devolver el dıa (la fecha) siguiente a la recibida por parametro. Se debe tener en cuenta los dıas de cada mes y los años bisiestos:"
   ]
  },
  {
   "cell_type": "code",
   "execution_count": 71,
   "id": "8aec014a-23ed-4faa-9ebe-bb83cab3a664",
   "metadata": {},
   "outputs": [
    {
     "name": "stdout",
     "output_type": "stream",
     "text": [
      "La fecha siguiente a la recibida es: 25/10/1995\n"
     ]
    }
   ],
   "source": [
    "# Un año es bisiesto cuando es divisible por 4, en el caso de los años divisibles por 100, luego se deben dividir entre 400\n",
    "\n",
    "# Definir la funcion que nos calcula si el año es bisiesto o no:\n",
    "\n",
    "def a_bisiesto(anyo):\n",
    "    return (anyo % 4 == 0 and anyo % 100 != 0) or (anyo % 400 == 0)\n",
    "\n",
    "\n",
    "def dia_sig(d, m, a): # Definir la funcion de los dias que tiene cada mes:\n",
    "    dias_que_tiene_cada_mes = [31, 28, 31, 30, 31, 30, 31, 31, 30, 31, 30, 31]\n",
    "    \n",
    "    if a_bisiesto(a): # Tener en cuenta el mes de febrero si es bisiesto:\n",
    "        dias_que_tiene_cada_mes[1] = 29\n",
    "    d += 1\n",
    "    \n",
    "    if d > dias_que_tiene_cada_mes[m - 1]: # Condicionar en caso que se superen los dias del mes:\n",
    "        d = 1\n",
    "        m +=1\n",
    "        \n",
    "        if m > 12: # Condicionar en caso que se superen los meses del año:\n",
    "            m = 1 # Dia del siguiente mes\n",
    "            a += 1 # Siguiente año\n",
    "    return d,m,a\n",
    "\n",
    "dia, mes, anyo = 24, 10, 1995  # Establecer una fecha de ejemplo\n",
    "d, m, a = dia_sig(dia, mes, anyo)\n",
    "         \n",
    "print(f\"La fecha siguiente a la recibida es: {d:02d}/{m:02d}/{a}\") # Mostrar el resultado de acuerdo a los parametros brindados"
   ]
  },
  {
   "cell_type": "markdown",
   "id": "e8bdec62-f053-4ed2-9d35-d2be3675c7a6",
   "metadata": {},
   "source": [
    "2. Dada la siguiente lista:"
   ]
  },
  {
   "cell_type": "code",
   "execution_count": 28,
   "id": "ab013a5e-748a-46d7-9903-9b77313f9005",
   "metadata": {},
   "outputs": [
    {
     "name": "stdout",
     "output_type": "stream",
     "text": [
      "Perro: 1\n",
      "Gato: 1\n",
      "Casa: 1\n",
      "Coche: 1\n",
      "Árbol: 1\n",
      "Sol: 1\n",
      "Luna: 1\n",
      "Mar: 1\n",
      "Montaña: 1\n",
      "Río: 1\n",
      "Playa: 1\n",
      "Libro: 1\n",
      "Computadora: 1\n",
      "Teléfono: 1\n",
      "Amigo: 1\n",
      "Familia: 1\n",
      "Trabajo: 1\n",
      "Comida: 1\n",
      "Película: 1\n",
      "Música: 1\n",
      "Viaje: 1\n",
      "Deporte: 1\n",
      "Juego: 1\n",
      "Amor: 1\n",
      "Odio: 1\n",
      "Felicidad: 1\n",
      "Tristeza: 1\n",
      "Alegría: 1\n",
      "Dolor: 1\n",
      "Sueño: 1\n",
      "Noche: 1\n",
      "Día: 1\n",
      "Agua: 1\n",
      "Fuego: 1\n",
      "Aire: 1\n",
      "Tierra: 1\n",
      "Cielo: 1\n",
      "Estrella: 1\n",
      "Flor: 1\n",
      "Fruta: 1\n",
      "Verdura: 1\n",
      "Chocolate: 1\n",
      "Café: 1\n",
      "Té: 1\n",
      "Vino: 1\n",
      "Cerveza: 1\n",
      "Dinero: 1\n",
      "Tiempo: 1\n",
      "Reloj: 2\n"
     ]
    }
   ],
   "source": [
    "palabras_espanol = [\"Perro\", \"Gato\", \"Casa\", \"Coche\",\"Árbol\", \"Sol\", \"Luna\", \"Mar\", \"Montaña\", \"Río\", \"Playa\", \"Libro\", \"Computadora\", \"Teléfono\",\n",
    "                    \"Amigo\", \"Familia\", \"Trabajo\", \"Comida\", \"Película\", \"Música\", \"Viaje\", \"Deporte\", \"Juego\", \"Amor\", \"Odio\", \"Felicidad\", \n",
    "                    \"Tristeza\", \"Alegría\", \"Dolor\", \"Sueño\", \"Noche\", \"Día\", \"Agua\", \"Fuego\", \"Aire\", \"Tierra\", \"Cielo\", \"Estrella\", \"Flor\", \n",
    "                    \"Fruta\", \"Verdura\", \"Chocolate\", \"Café\", \"Té\", \"Vino\", \"Cerveza\", \"Dinero\", \"Tiempo\", \"Reloj\", \"Reloj\"]\n",
    "\n",
    "# Construye un programa que muestre por pantalla cuantas veces aparece cada una de ellas:\n",
    "\n",
    "contar_palabra = {} # creacion de un diccionario para contar el numero que aparece cada palabra\n",
    "\n",
    "for palabra in palabras_espanol: # Recorrer cada palabra\n",
    "    if palabra in contar_palabra:\n",
    "        contar_palabra[palabra] += 1 # si la palabra ya aparece, se incrementa +1\n",
    "    else:\n",
    "        contar_palabra[palabra] = 1 # si la palabra no esta se deja en 1\n",
    "\n",
    "for palabra, conteo in contar_palabra .items(): \n",
    "    print(f\"{palabra}: {conteo}\") # mostrar por pantalla cuantas veces aparece cada palabra\n",
    "    "
   ]
  },
  {
   "cell_type": "markdown",
   "id": "6e21db14-a541-4339-8be7-5e88dfe9a7a7",
   "metadata": {},
   "source": [
    "3. Dado el siguiente diccionario con información del precio de diferentes productos por día:"
   ]
  },
  {
   "cell_type": "code",
   "execution_count": 41,
   "id": "30e8d1a0-9ade-42dc-b400-cebd8d7b7535",
   "metadata": {},
   "outputs": [
    {
     "name": "stdout",
     "output_type": "stream",
     "text": [
      "El precio maximo de cada producto es: {'cebolla': 0.39, 'patata': 0.43, 'naranja': 0.56}\n",
      "El producto mas caro es: naranja\n",
      "El dia que son mas cara las naranjas es: 2\n"
     ]
    }
   ],
   "source": [
    "precio_origen = {\n",
    "\"cebolla\": [30.3, 20.3, 25.9, 39.0], # céntimos/kg\n",
    "\"patata\":[0.33, 0.43, 0.34, 0.12], # euro/kg\n",
    "\"naranja\":[0.45, 0.56, 0.38, 0.43] # euro/kg\n",
    "}\n",
    "\n",
    "# Responde a las siguientes preguntas:\n",
    "\n",
    "##• ¿Cuál es el precio máximo de cada producto?\n",
    "\n",
    "precio_origen[\"cebolla\"] = [precio / 100 for precio in precio_origen[\"cebolla\"]] # Igualar la denominacion de la moneda a la misma unidad\n",
    "\n",
    "precio_maximo = {producto: max(precio) for producto, precio in precio_origen.items()} # Buscar en el diccionario cual es el precio maximo por cada producto\n",
    "print(\"El precio maximo de cada producto es:\", precio_maximo) # Mostrar el maximo de cada producto\n",
    "\n",
    "##• ¿Cuál es el producto más caro?\n",
    "\n",
    "producto_mas_caro = max(precio_maximo, key=precio_maximo.get) # Buscar en el precio maximo, el producto mas costoso\n",
    "print(\"El producto mas caro es:\", producto_mas_caro) # Mostrar el producto mas caro\n",
    "\n",
    "##• ¿Qué día son más caras las naranjas?\n",
    "\n",
    "dia_mas_cara_naranja = precio_origen[\"naranja\"].index(max(precio_origen[\"naranja\"])) + 1 # Buscar en el diccionario original en que orden se ubica su valor maximo\n",
    "print(\"El dia que son mas cara las naranjas es:\", dia_mas_cara_naranja) # Mostrar el dia mas caro para comprar naranjas\n"
   ]
  },
  {
   "cell_type": "markdown",
   "id": "934cb281-bada-4d9c-b3b4-53523ca9c827",
   "metadata": {},
   "source": [
    "## Problema"
   ]
  },
  {
   "cell_type": "markdown",
   "id": "a2bb230d-cd13-4305-b928-3f4655051421",
   "metadata": {},
   "source": [
    "Una empresa tiene un inventario de productos con diferentes categorías, y cada producto tiene un precio y una cantidad en stock. El objetivo es gestionar el inventario de forma eficiente. \n",
    "\n",
    "Instrucciones:"
   ]
  },
  {
   "cell_type": "markdown",
   "id": "58864432-b34a-4ed7-92f1-fbd6060c72a9",
   "metadata": {},
   "source": [
    "1. Crea un diccionario donde la clave sea el nombre de una categoría de producto y el valor sea una lista de tuplas. Cada tupla contendrá el nombre del producto, el precio y la cantidad en stock:"
   ]
  },
  {
   "cell_type": "code",
   "execution_count": 53,
   "id": "b7df78d8-0b39-4b08-afd8-8ac3baf46c5b",
   "metadata": {},
   "outputs": [
    {
     "name": "stdout",
     "output_type": "stream",
     "text": [
      "categoria: Verduras\n",
      " Producto: Espinacas, Precio: 1.1, Cantidad 5\n",
      " Producto: Tomates, Precio: 1.2, Cantidad 20\n",
      " Producto: Remolacha, Precio: 1.3, Cantidad 35\n",
      "categoria: Proteinas\n",
      " Producto: Pescado, Precio: 3.4, Cantidad 10\n",
      " Producto: Carne, Precio: 3.5, Cantidad 25\n",
      " Producto: Pollo, Precio: 3.6, Cantidad 40\n",
      "categoria: Frutas\n",
      " Producto: Manzanas, Precio: 2.15, Cantidad 15\n",
      " Producto: Sandia, Precio: 2.25, Cantidad 30\n",
      " Producto: Melon, Precio: 2.35, Cantidad 45\n"
     ]
    }
   ],
   "source": [
    "# Creacion del diccionario por nombre del producto, precio en € y cantidad de stock en su respectiva categoria:\n",
    "\n",
    "inventario = {\n",
    "\n",
    "    \"Verduras\": [\n",
    "        (\"Espinacas\", 1.10, 5),\n",
    "        (\"Tomates\", 1.20, 20),\n",
    "        (\"Remolacha\", 1.30, 35)\n",
    "    ],\n",
    "    \"Proteinas\": [\n",
    "        (\"Pescado\", 3.40, 10),\n",
    "        (\"Carne\", 3.50, 25),\n",
    "        (\"Pollo\", 3.60, 40)\n",
    "    ],\n",
    "    \"Frutas\": [\n",
    "        (\"Manzanas\", 2.15, 15),\n",
    "        (\"Sandia\", 2.25, 30),\n",
    "        (\"Melon\", 2.35, 45)\n",
    "    ]\n",
    "}\n",
    "\n",
    "# Definir la funcion para poder mostrar el inventario y su informacion detallada:\n",
    "\n",
    "def inventario_empresa(inventario):\n",
    "    for categoria, productos in inventario.items():\n",
    "        print(f\"categoria: {categoria}\")\n",
    "        for producto, precio, cantidad in productos:\n",
    "            print (f\" Producto: {producto}, Precio: {precio}, Cantidad {cantidad}\")\n",
    "\n",
    "# Mostrar el inventario:\n",
    "\n",
    "inventario_empresa(inventario)\n"
   ]
  },
  {
   "cell_type": "markdown",
   "id": "f85ab60b-1cb2-4bd5-b967-885673e318f4",
   "metadata": {},
   "source": [
    "2. Crea una función que calcule el valor total de inventario por categoría (precio por cantidad para cada producto):"
   ]
  },
  {
   "cell_type": "code",
   "execution_count": 54,
   "id": "b1e834b4-f699-4d3e-ac34-13d64bf4bb7b",
   "metadata": {},
   "outputs": [
    {
     "name": "stdout",
     "output_type": "stream",
     "text": [
      "El valor total de inventario por categoria es: {'Verduras': 75.0, 'Proteinas': 265.5, 'Frutas': 205.5}\n"
     ]
    }
   ],
   "source": [
    "# Definir la funcion:\n",
    "\n",
    "def valor_final_por_categoria(inventario):\n",
    "    valor_categoria = {}\n",
    "    for categoria, productos in inventario.items():\n",
    "        total_categoria = sum(precio * cantidad for _, precio, cantidad in productos)\n",
    "        valor_categoria[categoria] = total_categoria\n",
    "    return valor_categoria\n",
    "\n",
    "# Mostrar el valor total de inventario por categoria:\n",
    "\n",
    "valor_categoria = valor_final_por_categoria(inventario)\n",
    "print(\"El valor total de inventario por categoria es:\", valor_categoria)\n",
    "        "
   ]
  },
  {
   "cell_type": "markdown",
   "id": "2b23dc94-e2df-4e6e-a86f-5537774459dd",
   "metadata": {},
   "source": [
    "3. Muestra la categoría que tiene el valor total más alto en inventario:"
   ]
  },
  {
   "cell_type": "code",
   "execution_count": 57,
   "id": "aca70425-3f0a-45af-a0cc-6ee417a9f958",
   "metadata": {},
   "outputs": [
    {
     "name": "stdout",
     "output_type": "stream",
     "text": [
      " La categoria que tiene el valor mas alto en inventario es: 'Proteinas' con un valor de 265.50€\n"
     ]
    }
   ],
   "source": [
    "# Definir la funcion:\n",
    "\n",
    "def categoria_valor_mas_alto(inventario):\n",
    "    categoria_mas_alto = max(valor_categoria, key=valor_categoria.get)\n",
    "    return categoria_mas_alto, valor_categoria[categoria_mas_alto]\n",
    "\n",
    "# Mostrar la categoria que teien el valor mas alto:\n",
    "\n",
    "categoria_mas_alto, valor_max = categoria_valor_mas_alto(inventario)\n",
    "print(f\" La categoria que tiene el valor mas alto en inventario es: '{categoria_mas_alto}' con un valor de {valor_max:.2f}€\")\n"
   ]
  },
  {
   "cell_type": "markdown",
   "id": "fd8d5b3b-67d0-45c5-b758-f69fbf654e41",
   "metadata": {},
   "source": [
    "4. Añade una opción para actualizar el stock de un producto en una categoría específica:"
   ]
  },
  {
   "cell_type": "code",
   "execution_count": 63,
   "id": "be188fcb-524c-4550-a38c-6d5963c3ee3c",
   "metadata": {},
   "outputs": [
    {
     "name": "stdout",
     "output_type": "stream",
     "text": [
      "Stock del producto 'Manzanas' en la categoría 'Frutas' actualizado a 24.\n",
      "Categoría: Verduras\n",
      "  - Producto: Espinacas, Precio: 1.1, Cantidad: 5\n",
      "  - Producto: Tomates, Precio: 1.2, Cantidad: 20\n",
      "  - Producto: Remolacha, Precio: 1.3, Cantidad: 35\n",
      "Categoría: Proteinas\n",
      "  - Producto: Pescado, Precio: 3.4, Cantidad: 10\n",
      "  - Producto: Carne, Precio: 3.5, Cantidad: 25\n",
      "  - Producto: Pollo, Precio: 3.6, Cantidad: 40\n",
      "Categoría: Frutas\n",
      "  - Producto: Manzanas, Precio: 2.15, Cantidad: 24\n",
      "  - Producto: Sandia, Precio: 2.25, Cantidad: 30\n",
      "  - Producto: Melon, Precio: 2.35, Cantidad: 45\n"
     ]
    }
   ],
   "source": [
    "# Definir la funcion para actualizar el stock de un producto:\n",
    "\n",
    "def actualizar_stock_de_un_producto(inventario, categoria, producto, nueva_cantidad):\n",
    "    if categoria in inventario:\n",
    "        \n",
    "        for i, (nombre, precio, cantidad) in enumerate(inventario[categoria]):\n",
    "            if nombre == producto:\n",
    "                inventario[categoria][i] = (nombre, precio, nueva_cantidad)\n",
    "                print(f\"Stock del producto '{producto}' en la categoría '{categoria}' actualizado a {nueva_cantidad}.\")\n",
    "            return\n",
    "        print(f\"El producto '{producto}' no se encuentra en la categoría '{categoria}'.\")\n",
    "    else:\n",
    "        print(f\"La categoría '{categoria}' no existe en el inventario.\")\n",
    "\n",
    "actualizar_stock_de_un_producto(inventario, \"Frutas\", \"Manzanas\", 24)\n",
    "\n",
    "# Mostrar nuevamente el inventario:\n",
    "\n",
    "def mostrar_inventario(inventario):\n",
    "    for categoria, productos in inventario.items():\n",
    "        print(f\"Categoría: {categoria}\")\n",
    "        for producto, precio, cantidad in productos:\n",
    "            print(f\"  - Producto: {producto}, Precio: {precio}, Cantidad: {cantidad}\")\n",
    "\n",
    "# Mostrar inventario actualizado:\n",
    "\n",
    "mostrar_inventario(inventario)"
   ]
  },
  {
   "cell_type": "markdown",
   "id": "15baefca-24ec-4a3d-bca9-432dc2683db7",
   "metadata": {},
   "source": [
    "## Anexo\n",
    "Uno de los requisitos de la entrega de la práctica es la entrega de un fichero de texto volcado de git log. Para obtener este fichero, en vuestra terminal, y una vez estéis en la carpeta de vuestro repositorio, tenéis que hacer la siguiente instrucción:\n",
    "\n",
    "git log >> dump.txt\n",
    "\n",
    "El resultado es un fichero dump.txt con la información de los diferentes commits realizados."
   ]
  }
 ],
 "metadata": {
  "kernelspec": {
   "display_name": "Python 3 (ipykernel)",
   "language": "python",
   "name": "python3"
  },
  "language_info": {
   "codemirror_mode": {
    "name": "ipython",
    "version": 3
   },
   "file_extension": ".py",
   "mimetype": "text/x-python",
   "name": "python",
   "nbconvert_exporter": "python",
   "pygments_lexer": "ipython3",
   "version": "3.13.0"
  }
 },
 "nbformat": 4,
 "nbformat_minor": 5
}
