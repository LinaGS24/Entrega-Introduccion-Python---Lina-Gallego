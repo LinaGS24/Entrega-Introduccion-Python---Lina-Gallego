{
 "cells": [
  {
   "cell_type": "markdown",
   "id": "10f0c2c4-56b7-41e9-b394-a05e127b74a6",
   "metadata": {},
   "source": [
    "PRACTICA 1"
   ]
  },
  {
   "cell_type": "code",
   "execution_count": 1,
   "id": "9adb66ba-ade5-43f4-883d-5ee89745a976",
   "metadata": {},
   "outputs": [
    {
     "data": {
      "text/plain": [
       "2"
      ]
     },
     "execution_count": 1,
     "metadata": {},
     "output_type": "execute_result"
    }
   ],
   "source": [
    "1+1"
   ]
  },
  {
   "cell_type": "code",
   "execution_count": 4,
   "id": "9bd19985-b117-4205-9661-260ce383b57d",
   "metadata": {},
   "outputs": [
    {
     "name": "stdout",
     "output_type": "stream",
     "text": [
      "25\n"
     ]
    }
   ],
   "source": [
    "x=10\n",
    "y=15\n",
    "resultado=x+y\n",
    "print(resultado)"
   ]
  },
  {
   "cell_type": "code",
   "execution_count": 6,
   "id": "3270dadc-7ace-4c34-a456-3804e4ef6e7f",
   "metadata": {},
   "outputs": [
    {
     "name": "stdout",
     "output_type": "stream",
     "text": [
      "100\n"
     ]
    }
   ],
   "source": [
    "a=10\n",
    "b=20\n",
    "x=45\n",
    "r=(a+b-5)+(x+10+20)\n",
    "print(r)"
   ]
  },
  {
   "cell_type": "code",
   "execution_count": 7,
   "id": "1dec1947-7523-41cf-b824-0c4c48de0ee7",
   "metadata": {},
   "outputs": [
    {
     "name": "stdout",
     "output_type": "stream",
     "text": [
      "1.5\n"
     ]
    }
   ],
   "source": [
    "division_decimal=3/2\n",
    "print(division_decimal)"
   ]
  },
  {
   "cell_type": "code",
   "execution_count": 8,
   "id": "193d8e6e-c044-4402-8ebc-c7bc915d3c36",
   "metadata": {},
   "outputs": [
    {
     "name": "stdout",
     "output_type": "stream",
     "text": [
      "1\n"
     ]
    }
   ],
   "source": [
    "division_entera=3//2\n",
    "print(division_entera)"
   ]
  },
  {
   "cell_type": "code",
   "execution_count": 9,
   "id": "fbabc1a9-2190-4483-9a04-e06d84abeb50",
   "metadata": {},
   "outputs": [
    {
     "data": {
      "text/plain": [
       "True"
      ]
     },
     "execution_count": 9,
     "metadata": {},
     "output_type": "execute_result"
    }
   ],
   "source": [
    "x=5.3\n",
    "y=5.5\n",
    "comparacion_1=x<y\n",
    "comparacion_1"
   ]
  },
  {
   "cell_type": "code",
   "execution_count": 15,
   "id": "829be22c-fac1-4c7c-8a86-50d7cca424f5",
   "metadata": {},
   "outputs": [
    {
     "name": "stdout",
     "output_type": "stream",
     "text": [
      "hola mundo\n",
      "Esto es una texto El cual contanenamos con otro\n",
      "Tambien lo podemos hacer asi a b\n",
      "Texto concatenado con un numero \"3\"\n"
     ]
    }
   ],
   "source": [
    "#Esto es un comentario\n",
    "print(\"hola mundo\")\n",
    "print(\"Esto es una texto\"+\" El cual contanenamos con otro\")\n",
    "a= 'a'+\" \"+'b'\n",
    "print(\"Tambien lo podemos hacer asi \" + a)\n",
    "num=3\n",
    "print(f'Texto concatenado con un numero \"{num}\"')\n"
   ]
  },
  {
   "cell_type": "code",
   "execution_count": 18,
   "id": "53c8dc94-5739-487e-88e3-3cc646365c91",
   "metadata": {},
   "outputs": [],
   "source": [
    "def m_a_cm(metros):\n",
    "    centimetros=metros*100\n",
    "    return centimetros"
   ]
  },
  {
   "cell_type": "code",
   "execution_count": 19,
   "id": "978ddbff-32e4-49bf-a673-1788dcb2814e",
   "metadata": {},
   "outputs": [
    {
     "name": "stdout",
     "output_type": "stream",
     "text": [
      "33 metros son 3300 cm\n"
     ]
    }
   ],
   "source": [
    "m=33\n",
    "transformado=m_a_cm(m)\n",
    "print(f'{m} metros son {transformado} cm')"
   ]
  },
  {
   "cell_type": "markdown",
   "id": "52e77fa1-b973-401f-a609-334b5a49e51e",
   "metadata": {},
   "source": [
    "EJERCICIOS CONCEPTOS BASICOS"
   ]
  },
  {
   "cell_type": "markdown",
   "id": "e53be8e5-cf50-4e74-809a-c8b4b05dc030",
   "metadata": {},
   "source": [
    "1.Realizar un conjunto de expresiones en Python que nos calcule el índice de masa corporal (IMC) de una persona que mide 2 m i pesa 60 Kg. Se calcula dividiendo el peso entre la altura al cuadrado (en cm).\n",
    "\n",
    "2.Realizar un conjunto de expresiones en Python para resolver una ecuación de primer grado de la forma ax+b= 0. Los valores de a y b los pondremos directamente en el código y mostrar la solución por pantalla.\n",
    "\n",
    "3.Crear una función que recibe un número entero que representa un año y nos devuelve un valor booleano que representa si es un año bisiesto o no. Comprueba la corrección de tu función usándola.\n",
    "\n",
    "4.Realizar una función que recibe los parámetros (números enteros): a, b y c. resuelve una ecuación de segundo grado y devuelve sus soluciones. Ejemplo, la ecuación: \n",
    " debe dar -0.1523201 ; -9.8476799. Para calcular la raíz cuadrada podéis usar la función sqrt. Comprueba la corrección de tu función usándola.\n",
    "\n",
    " Ejemplo de uso de la función:\n",
    "\n",
    "import math # Al principio del script\n",
    "\n",
    "math.sqrt(4)"
   ]
  },
  {
   "cell_type": "code",
   "execution_count": 20,
   "id": "5deb33fa-3d04-40ce-baff-b91f0355ff3f",
   "metadata": {},
   "outputs": [
    {
     "name": "stdout",
     "output_type": "stream",
     "text": [
      "0.0015\n"
     ]
    }
   ],
   "source": [
    "#1\n",
    "IMC=60/(2*100)**2\n",
    "print(IMC)"
   ]
  },
  {
   "cell_type": "code",
   "execution_count": 21,
   "id": "b4bd3310-4d3f-4d2a-b87f-3a61768b6ad4",
   "metadata": {},
   "outputs": [
    {
     "name": "stdout",
     "output_type": "stream",
     "text": [
      "-0.5\n"
     ]
    }
   ],
   "source": [
    "#2 ax+b=0\n",
    "a=10\n",
    "b=5\n",
    "x=-b/a\n",
    "print(x)"
   ]
  },
  {
   "cell_type": "code",
   "execution_count": 30,
   "id": "c8811073-e203-42fb-8251-9a4b62709479",
   "metadata": {},
   "outputs": [
    {
     "name": "stdout",
     "output_type": "stream",
     "text": [
      "es bisiesto el año1992? True\n"
     ]
    }
   ],
   "source": [
    "#3\n",
    "\n",
    "def es_bisiesto(anyo):\n",
    "\n",
    "    if((anyo%400==0) or (anyo%100!=0)and\n",
    "       (anyo%4==0)):\n",
    "          return True\n",
    "    else:\n",
    "         return False\n",
    "anyo=1992\n",
    "print(f'es bisiesto el año{anyo}? {es_bisiesto(anyo)}')\n",
    "    "
   ]
  },
  {
   "cell_type": "code",
   "execution_count": 35,
   "id": "ae4646b7-fe13-4faa-82d4-ac30a920ae63",
   "metadata": {},
   "outputs": [
    {
     "name": "stdout",
     "output_type": "stream",
     "text": [
      "-9.84767985741633 -0.15232014258367066\n"
     ]
    }
   ],
   "source": [
    "#4\n",
    "import math\n",
    "\n",
    "def eq_2_grado(a,b,c,):\n",
    "\n",
    "    #discriminante\n",
    "    d = (b**2) - (4*a*c)\n",
    "\n",
    "    if d  == 0:\n",
    "        sol1 = (-b-math.sqrt(d))/(2*a)\n",
    "        print(sol1)\n",
    "    elif d > 0:\n",
    "        sol1 = (-b-math.sqrt(d))/(2*a)\n",
    "        sol2 = (-b+math.sqrt(d))/(2*a)\n",
    "        print(sol1, sol2)\n",
    "    else:\n",
    "        print(\"No hay solución\")\n",
    "\n",
    "\n",
    "eq_2_grado(2, 20 ,3)"
   ]
  },
  {
   "cell_type": "code",
   "execution_count": null,
   "id": "f5133ce8-4f9f-4a5c-8492-62743303ba51",
   "metadata": {},
   "outputs": [],
   "source": []
  }
 ],
 "metadata": {
  "kernelspec": {
   "display_name": "Python 3 (ipykernel)",
   "language": "python",
   "name": "python3"
  },
  "language_info": {
   "codemirror_mode": {
    "name": "ipython",
    "version": 3
   },
   "file_extension": ".py",
   "mimetype": "text/x-python",
   "name": "python",
   "nbconvert_exporter": "python",
   "pygments_lexer": "ipython3",
   "version": "3.13.0"
  }
 },
 "nbformat": 4,
 "nbformat_minor": 5
}
